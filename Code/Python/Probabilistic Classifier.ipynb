{
 "cells": [
  {
   "cell_type": "markdown",
   "id": "verified-remedy",
   "metadata": {},
   "source": [
    "### Nearest neighbor classifier\n",
    "\n"
   ]
  },
  {
   "cell_type": "code",
   "execution_count": 1,
   "id": "nominated-sacramento",
   "metadata": {},
   "outputs": [],
   "source": [
    "import pandas as pd\n",
    "\n",
    "B = 100000\n",
    "\n",
    "df = pd.read_csv('../../Data/labeled_sample_' + str(B) + '.csv')\n",
    "\n",
    "theta = df['Theta']\n",
    "entropy = df['H']\n",
    "complexity = df['C']\n",
    "label = df['Y']"
   ]
  },
  {
   "cell_type": "code",
   "execution_count": 2,
   "id": "original-pioneer",
   "metadata": {},
   "outputs": [
    {
     "name": "stdout",
     "output_type": "stream",
     "text": [
      "[[0.6 0.4]\n",
      " [0.6 0.4]\n",
      " [0.6 0.4]\n",
      " ...\n",
      " [0.6 0.4]\n",
      " [0.6 0.4]\n",
      " [0.6 0.4]]\n"
     ]
    }
   ],
   "source": [
    "import numpy as np\n",
    "from sklearn.model_selection import train_test_split\n",
    "from sklearn.neighbors import KNeighborsClassifier\n",
    "\n",
    "\n",
    "features = list(zip(entropy, complexity))\n",
    "X_train, X_test, y_train, y_test = train_test_split(features, label, test_size = 0.3) # 70% training and 30% test\n",
    "\n",
    "model = KNeighborsClassifier(n_neighbors = 5)\n",
    "model.fit(X_train, y_train)\n",
    "    \n",
    "y_pred = model.predict_proba(X_test)\n",
    "print(y_pred)"
   ]
  },
  {
   "cell_type": "markdown",
   "id": "nonprofit-union",
   "metadata": {},
   "source": [
    "### Odds Ratio"
   ]
  },
  {
   "cell_type": "code",
   "execution_count": null,
   "id": "important-gallery",
   "metadata": {},
   "outputs": [],
   "source": [
    "individual_odds = []\n",
    "\n",
    "b_test = int(0.3 * B)\n",
    "\n",
    "for i in range(b_test):\n",
    "    if y_pred[i][0] == 0:\n",
    "        individual_odds.append(0)\n",
    "    else:\n",
    "        individual_odds.append(float(y_pred[i][1]/y_pred[i][0]))\n",
    "\n",
    "odds_ratio = []\n",
    "\n",
    "for i in range(b_test):\n",
    "    for j in range(b_test):\n",
    "        if i != j:\n",
    "            odds_ratio.append(individual_odds[i]/individual_odds[j])"
   ]
  },
  {
   "cell_type": "code",
   "execution_count": 22,
   "id": "requested-multiple",
   "metadata": {},
   "outputs": [
    {
     "data": {
      "text/plain": [
       "1.0"
      ]
     },
     "execution_count": 22,
     "metadata": {},
     "output_type": "execute_result"
    }
   ],
   "source": [
    "odds_ratio"
   ]
  }
 ],
 "metadata": {
  "kernelspec": {
   "display_name": "Python 3",
   "language": "python",
   "name": "python3"
  },
  "language_info": {
   "codemirror_mode": {
    "name": "ipython",
    "version": 3
   },
   "file_extension": ".py",
   "mimetype": "text/x-python",
   "name": "python",
   "nbconvert_exporter": "python",
   "pygments_lexer": "ipython3",
   "version": "3.8.5"
  }
 },
 "nbformat": 4,
 "nbformat_minor": 5
}
